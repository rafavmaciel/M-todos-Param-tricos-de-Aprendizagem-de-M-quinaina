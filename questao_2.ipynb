{
 "cells": [
  {
   "cell_type": "code",
   "execution_count": 1,
   "metadata": {},
   "outputs": [],
   "source": [
    "import pandas as pd\n",
    "import numpy as np\n",
    "import matplotlib.pyplot as plt\n",
    "import seaborn as sns\n",
    "import scipy.stats as stats"
   ]
  },
  {
   "cell_type": "code",
   "execution_count": 3,
   "metadata": {},
   "outputs": [],
   "source": [
    "iris = pd.read_csv('iris.data', header=None)\n",
    "iris.columns = ['sepal_length', 'sepal_width', 'petal_length', 'petal_width', 'class']\n",
    "# separando os dados em classes\n",
    "iris_setosa = iris[iris['class'] == 'Iris-setosa']\n",
    "iris_versicolor = iris[iris['class'] == 'Iris-versicolor']\n",
    "iris_virginica = iris[iris['class'] == 'Iris-virginica']"
   ]
  },
  {
   "cell_type": "code",
   "execution_count": 16,
   "metadata": {},
   "outputs": [
    {
     "name": "stdout",
     "output_type": "stream",
     "text": [
      "Iris-setosa: \n",
      "5.005999999999999\n",
      "3.4180000000000006\n",
      "1.464\n",
      "0.2439999999999999\n",
      "Iris-versicolor: \n",
      "5.936\n",
      "2.7700000000000005\n",
      "4.26\n",
      "1.3259999999999998\n",
      "Iris-virginica: \n",
      "6.587999999999998\n",
      "2.9739999999999998\n",
      "5.552\n",
      "2.026\n"
     ]
    }
   ],
   "source": [
    "#mostrando a media de cada atributo de cada classe\n",
    "string_classes = ['Iris-setosa', 'Iris-versicolor', 'Iris-virginica']\n",
    "\n",
    "print('Iris-setosa: ')\n",
    "for i in range(4):\n",
    "    print( iris_setosa.iloc[:,i].mean() )\n",
    "\n",
    "print('Iris-versicolor: ')\n",
    "for i in range(4):\n",
    "    print( iris_versicolor.iloc[:,i].mean() )\n",
    "\n",
    "print('Iris-virginica: ')\n",
    "for i in range(4):\n",
    "    print( iris_virginica.iloc[:,i].mean() )\n",
    "\n",
    "\n"
   ]
  },
  {
   "cell_type": "code",
   "execution_count": 17,
   "metadata": {},
   "outputs": [
    {
     "name": "stdout",
     "output_type": "stream",
     "text": [
      "Iris-setosa: \n",
      "5.0\n",
      "3.4\n",
      "1.5\n",
      "0.2\n",
      "Iris-versicolor: \n",
      "5.9\n",
      "2.8\n",
      "4.35\n",
      "1.3\n",
      "Iris-virginica: \n",
      "6.5\n",
      "3.0\n",
      "5.55\n",
      "2.0\n"
     ]
    }
   ],
   "source": [
    "#mostrando a mediana de cada atributo de cada classe\n",
    "print('Iris-setosa: ')\n",
    "for i in range(4):\n",
    "    print( iris_setosa.iloc[:,i].median() )\n",
    "\n",
    "print('Iris-versicolor: ')\n",
    "for i in range(4):\n",
    "    print( iris_versicolor.iloc[:,i].median() )\n",
    "\n",
    "print('Iris-virginica: ')\n",
    "for i in range(4):\n",
    "    print( iris_virginica.iloc[:,i].median() )\n"
   ]
  },
  {
   "cell_type": "code",
   "execution_count": 19,
   "metadata": {},
   "outputs": [
    {
     "name": "stdout",
     "output_type": "stream",
     "text": [
      "Iris-setosa: \n",
      "4.999999999999999\n",
      "3.3933333333333335\n",
      "1.4633333333333336\n",
      "0.22\n",
      "Iris-versicolor: \n",
      "5.909999999999999\n",
      "2.796666666666667\n",
      "4.306666666666666\n",
      "1.3399999999999999\n",
      "Iris-virginica: \n",
      "6.546666666666666\n",
      "2.963333333333333\n",
      "5.493333333333336\n",
      "2.023333333333333\n"
     ]
    }
   ],
   "source": [
    "#mostrando a media aparada de cada atributo de cada classe\n",
    "print('Iris-setosa: ')\n",
    "for i in range(4):\n",
    "    print( stats.trim_mean(iris_setosa.iloc[:,i],0.2) )\n",
    "print('Iris-versicolor: ')\n",
    "for i in range(4):\n",
    "    print( stats.trim_mean(iris_versicolor.iloc[:,i],0.2) )\n",
    "print('Iris-virginica: ')\n",
    "for i in range(4):\n",
    "    print( stats.trim_mean(iris_virginica.iloc[:,i],0.2 ) )\n"
   ]
  },
  {
   "cell_type": "code",
   "execution_count": 20,
   "metadata": {},
   "outputs": [
    {
     "name": "stdout",
     "output_type": "stream",
     "text": [
      "Iris-setosa: \n",
      "0.27071999999999996\n",
      "0.28888\n",
      "0.13087999999999997\n",
      "0.08383999999999998\n",
      "Iris-versicolor: \n",
      "0.42144000000000015\n",
      "0.25479999999999986\n",
      "0.3791999999999999\n",
      "0.15711999999999995\n",
      "Iris-virginica: \n",
      "0.5025599999999997\n",
      "0.24216000000000004\n",
      "0.43999999999999984\n",
      "0.22807999999999992\n"
     ]
    }
   ],
   "source": [
    "# mostrando o desvio absoluto medio de cada atributo de cada classe\n",
    "print('Iris-setosa: ')\n",
    "for i in range(4):\n",
    "    print( iris_setosa.iloc[:,i].mad() )\n",
    "\n",
    "print('Iris-versicolor: ')\n",
    "for i in range(4):\n",
    "    print( iris_versicolor.iloc[:,i].mad() )\n",
    "\n",
    "print('Iris-virginica: ')\n",
    "for i in range(4):\n",
    "    print( iris_virginica.iloc[:,i].mad() )\n",
    "\n"
   ]
  },
  {
   "cell_type": "code",
   "execution_count": 21,
   "metadata": {},
   "outputs": [
    {
     "name": "stdout",
     "output_type": "stream",
     "text": [
      "Iris-setosa: \n",
      "0.12424897959183666\n",
      "0.1451795918367347\n",
      "0.030106122448979603\n",
      "0.011493877551020404\n",
      "Iris-versicolor: \n",
      "0.2664326530612246\n",
      "0.09846938775510206\n",
      "0.22081632653061237\n",
      "0.039106122448979576\n",
      "Iris-virginica: \n",
      "0.40434285714285706\n",
      "0.10400408163265312\n",
      "0.304587755102041\n",
      "0.07543265306122447\n"
     ]
    }
   ],
   "source": [
    "# mostrando a variancia de cada atributo de cada classe\n",
    "print('Iris-setosa: ')\n",
    "for i in range(4):\n",
    "    print( iris_setosa.iloc[:,i].var() )\n",
    "\n",
    "print('Iris-versicolor: ')\n",
    "for i in range(4):\n",
    "    print( iris_versicolor.iloc[:,i].var() )\n",
    "\n",
    "print('Iris-virginica: ')\n",
    "for i in range(4):\n",
    "    print( iris_virginica.iloc[:,i].var() )\n"
   ]
  },
  {
   "cell_type": "code",
   "execution_count": 22,
   "metadata": {},
   "outputs": [
    {
     "name": "stdout",
     "output_type": "stream",
     "text": [
      "Iris-setosa: \n",
      "0.3524896872134512\n",
      "0.38102439795469095\n",
      "0.1735111594364455\n",
      "0.10720950308167837\n",
      "Iris-versicolor: \n",
      "0.5161711470638635\n",
      "0.3137983233784114\n",
      "0.46991097723995806\n",
      "0.197752680004544\n",
      "Iris-virginica: \n",
      "0.635879593274432\n",
      "0.3224966381726376\n",
      "0.5518946956639835\n",
      "0.27465005563666733\n"
     ]
    }
   ],
   "source": [
    "# mostrando o desvio padrao de cada atributo de cada classe\n",
    "print('Iris-setosa: ')\n",
    "for i in range(4):\n",
    "    print( iris_setosa.iloc[:,i].std() )\n",
    "\n",
    "print('Iris-versicolor: ')\n",
    "for i in range(4):\n",
    "    print( iris_versicolor.iloc[:,i].std() )\n",
    "\n",
    "print('Iris-virginica: ')\n",
    "for i in range(4):\n",
    "    print( iris_virginica.iloc[:,i].std() )\n"
   ]
  },
  {
   "cell_type": "code",
   "execution_count": 23,
   "metadata": {},
   "outputs": [
    {
     "name": "stdout",
     "output_type": "stream",
     "text": [
      "Iris-setosa: \n",
      "0.03828558956056442\n",
      "0.04085380138983397\n",
      "0.01850922710433906\n",
      "0.011856766506936026\n",
      "Iris-versicolor: \n",
      "0.05960061637265174\n",
      "0.03603416156926644\n",
      "0.053626978285187754\n",
      "0.022220123492006062\n",
      "Iris-virginica: \n",
      "0.07107271679062221\n",
      "0.03424659562642687\n",
      "0.062225396744416156\n",
      "0.032255382930605536\n"
     ]
    }
   ],
   "source": [
    "# mostrando o desvio absoluto mediano da mediana de cada atributo de cada classe\n",
    "print('Iris-setosa: ')\n",
    "for i in range(4):\n",
    "    print( iris_setosa.iloc[:,i].mad()/np.sqrt(iris_setosa.iloc[:,i].size) )\n",
    "\n",
    "print('Iris-versicolor: ')\n",
    "for i in range(4):\n",
    "    print( iris_versicolor.iloc[:,i].mad()/np.sqrt(iris_versicolor.iloc[:,i].size) )\n",
    "\n",
    "print('Iris-virginica: ')\n",
    "for i in range(4):\n",
    "    print( iris_virginica.iloc[:,i].mad()/np.sqrt(iris_virginica.iloc[:,i].size) )"
   ]
  },
  {
   "cell_type": "code",
   "execution_count": 24,
   "metadata": {},
   "outputs": [
    {
     "name": "stdout",
     "output_type": "stream",
     "text": [
      "Iris-setosa: \n",
      "5.8\n",
      "4.4\n",
      "1.9\n",
      "0.6\n",
      "Iris-versicolor: \n",
      "7.0\n",
      "3.4\n",
      "5.1\n",
      "1.8\n",
      "Iris-virginica: \n",
      "7.9\n",
      "3.8\n",
      "6.9\n",
      "2.5\n"
     ]
    }
   ],
   "source": [
    "#mostrado o maximo de cada atributo de cada classe\n",
    "print('Iris-setosa: ')\n",
    "for i in range(4):\n",
    "    print( iris_setosa.iloc[:,i].max() )\n",
    "\n",
    "print('Iris-versicolor: ')\n",
    "for i in range(4):\n",
    "    print( iris_versicolor.iloc[:,i].max() )\n",
    "\n",
    "print('Iris-virginica: ')\n",
    "for i in range(4):\n",
    "    print( iris_virginica.iloc[:,i].max() )\n"
   ]
  },
  {
   "cell_type": "code",
   "execution_count": 25,
   "metadata": {},
   "outputs": [
    {
     "name": "stdout",
     "output_type": "stream",
     "text": [
      "Iris-setosa: \n",
      "4.3\n",
      "2.3\n",
      "1.0\n",
      "0.1\n",
      "Iris-versicolor: \n",
      "4.9\n",
      "2.0\n",
      "3.0\n",
      "1.0\n",
      "Iris-virginica: \n",
      "4.9\n",
      "2.2\n",
      "4.5\n",
      "1.4\n"
     ]
    }
   ],
   "source": [
    "#mostrado o minimo de cada atributo de cada classe\n",
    "print('Iris-setosa: ')\n",
    "for i in range(4):\n",
    "    print( iris_setosa.iloc[:,i].min() )\n",
    "\n",
    "print('Iris-versicolor: ')\n",
    "for i in range(4):\n",
    "    print( iris_versicolor.iloc[:,i].min() )\n",
    "\n",
    "print('Iris-virginica: ')\n",
    "for i in range(4):\n",
    "    print( iris_virginica.iloc[:,i].min() )\n",
    "    "
   ]
  },
  {
   "cell_type": "code",
   "execution_count": 26,
   "metadata": {},
   "outputs": [
    {
     "name": "stdout",
     "output_type": "stream",
     "text": [
      "Iris-setosa: \n",
      "1.5\n",
      "2.1000000000000005\n",
      "0.8999999999999999\n",
      "0.5\n",
      "Iris-versicolor: \n",
      "2.0999999999999996\n",
      "1.4\n",
      "2.0999999999999996\n",
      "0.8\n",
      "Iris-virginica: \n",
      "3.0\n",
      "1.5999999999999996\n",
      "2.4000000000000004\n",
      "1.1\n"
     ]
    }
   ],
   "source": [
    "#mostrando a amplitiude de cada atributo de cada classe\n",
    "print('Iris-setosa: ')\n",
    "for i in range(4):\n",
    "    print( iris_setosa.iloc[:,i].max() - iris_setosa.iloc[:,i].min() )\n",
    "\n",
    "print('Iris-versicolor: ')\n",
    "for i in range(4):\n",
    "    print( iris_versicolor.iloc[:,i].max() - iris_versicolor.iloc[:,i].min() )\n",
    "\n",
    "print('Iris-virginica: ')\n",
    "for i in range(4):\n",
    "    print( iris_virginica.iloc[:,i].max() - iris_virginica.iloc[:,i].min() )\n",
    "    "
   ]
  },
  {
   "cell_type": "code",
   "execution_count": 28,
   "metadata": {},
   "outputs": [
    {
     "name": "stdout",
     "output_type": "stream",
     "text": [
      "Iris-setosa: \n",
      "4.59\n",
      "3.0\n",
      "1.3\n",
      "0.1\n",
      "Iris-versicolor: \n",
      "5.380000000000001\n",
      "2.3\n",
      "3.5900000000000003\n",
      "1.0\n",
      "Iris-virginica: \n",
      "5.8\n",
      "2.5900000000000003\n",
      "4.9\n",
      "1.79\n"
     ]
    }
   ],
   "source": [
    "#mostrando o 10 percentil de cada atributo de cada classe\n",
    "print('Iris-setosa: ')\n",
    "for i in range(4):\n",
    "    print( iris_setosa.iloc[:,i].quantile(0.1) )\n",
    "\n",
    "print('Iris-versicolor: ')\n",
    "for i in range(4):\n",
    "    print( iris_versicolor.iloc[:,i].quantile(0.1) )\n",
    "\n",
    "print('Iris-virginica: ')\n",
    "for i in range(4):\n",
    "    print( iris_virginica.iloc[:,i].quantile(0.1) )\n"
   ]
  },
  {
   "cell_type": "code",
   "execution_count": 27,
   "metadata": {},
   "outputs": [
    {
     "name": "stdout",
     "output_type": "stream",
     "text": [
      "Iris-setosa: \n",
      "4.8\n",
      "3.125\n",
      "1.4\n",
      "0.2\n",
      "Iris-versicolor: \n",
      "5.6\n",
      "2.525\n",
      "4.0\n",
      "1.2\n",
      "Iris-virginica: \n",
      "6.225\n",
      "2.8\n",
      "5.1\n",
      "1.8\n"
     ]
    }
   ],
   "source": [
    "#mostrando o 25 percentil de cada atributo de cada classe\n",
    "print('Iris-setosa: ')\n",
    "for i in range(4):\n",
    "    print( iris_setosa.iloc[:,i].quantile(0.25) )\n",
    "\n",
    "print('Iris-versicolor: ')  \n",
    "for i in range(4):\n",
    "    print( iris_versicolor.iloc[:,i].quantile(0.25) )\n",
    "\n",
    "print('Iris-virginica: ')\n",
    "for i in range(4):\n",
    "    print( iris_virginica.iloc[:,i].quantile(0.25) )\n"
   ]
  },
  {
   "cell_type": "code",
   "execution_count": 29,
   "metadata": {},
   "outputs": [
    {
     "name": "stdout",
     "output_type": "stream",
     "text": [
      "Iris-setosa: \n",
      "5.2\n",
      "3.6750000000000003\n",
      "1.5750000000000002\n",
      "0.3\n",
      "Iris-versicolor: \n",
      "6.3\n",
      "3.0\n",
      "4.6\n",
      "1.5\n",
      "Iris-virginica: \n",
      "6.9\n",
      "3.1750000000000003\n",
      "5.875\n",
      "2.3\n"
     ]
    }
   ],
   "source": [
    "#mostrando o 75 percentil de cada atributo de cada classe\n",
    "print('Iris-setosa: ')\n",
    "for i in range(4):\n",
    "    print( iris_setosa.iloc[:,i].quantile(0.75) )\n",
    "\n",
    "print('Iris-versicolor: ')\n",
    "for i in range(4):\n",
    "    print( iris_versicolor.iloc[:,i].quantile(0.75) )\n",
    "\n",
    "print('Iris-virginica: ')\n",
    "for i in range(4):\n",
    "    print( iris_virginica.iloc[:,i].quantile(0.75) )\n"
   ]
  },
  {
   "cell_type": "code",
   "execution_count": 30,
   "metadata": {},
   "outputs": [
    {
     "name": "stdout",
     "output_type": "stream",
     "text": [
      "Iris-setosa: \n",
      "5.41\n",
      "3.9\n",
      "1.7\n",
      "0.4\n",
      "Iris-versicolor: \n",
      "6.7\n",
      "3.1100000000000003\n",
      "4.8\n",
      "1.5100000000000002\n",
      "Iris-virginica: \n",
      "7.609999999999999\n",
      "3.31\n",
      "6.31\n",
      "2.4\n"
     ]
    }
   ],
   "source": [
    "#mostrando o 90 percentil de cada atributo de cada classe\n",
    "print('Iris-setosa: ')\n",
    "for i in range(4):\n",
    "    print( iris_setosa.iloc[:,i].quantile(0.9) )\n",
    "\n",
    "print('Iris-versicolor: ')\n",
    "for i in range(4):\n",
    "    print( iris_versicolor.iloc[:,i].quantile(0.9) )\n",
    "\n",
    "print('Iris-virginica: ')\n",
    "for i in range(4):\n",
    "    print( iris_virginica.iloc[:,i].quantile(0.9) )\n",
    "    "
   ]
  }
 ],
 "metadata": {
  "kernelspec": {
   "display_name": "Python 3.9.7 ('base')",
   "language": "python",
   "name": "python3"
  },
  "language_info": {
   "codemirror_mode": {
    "name": "ipython",
    "version": 3
   },
   "file_extension": ".py",
   "mimetype": "text/x-python",
   "name": "python",
   "nbconvert_exporter": "python",
   "pygments_lexer": "ipython3",
   "version": "3.9.7"
  },
  "orig_nbformat": 4,
  "vscode": {
   "interpreter": {
    "hash": "ad2bdc8ecc057115af97d19610ffacc2b4e99fae6737bb82f5d7fb13d2f2c186"
   }
  }
 },
 "nbformat": 4,
 "nbformat_minor": 2
}
