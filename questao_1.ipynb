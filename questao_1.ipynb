{
 "cells": [
  {
   "cell_type": "code",
   "execution_count": 23,
   "metadata": {},
   "outputs": [],
   "source": [
    "import pandas as pd\n",
    "import numpy as np\n",
    "import matplotlib.pyplot as plt\n",
    "import seaborn as sns\n",
    "import scipy.stats as stats\n",
    "\n"
   ]
  },
  {
   "cell_type": "code",
   "execution_count": 22,
   "metadata": {},
   "outputs": [
    {
     "data": {
      "text/html": [
       "<div>\n",
       "<style scoped>\n",
       "    .dataframe tbody tr th:only-of-type {\n",
       "        vertical-align: middle;\n",
       "    }\n",
       "\n",
       "    .dataframe tbody tr th {\n",
       "        vertical-align: top;\n",
       "    }\n",
       "\n",
       "    .dataframe thead th {\n",
       "        text-align: right;\n",
       "    }\n",
       "</style>\n",
       "<table border=\"1\" class=\"dataframe\">\n",
       "  <thead>\n",
       "    <tr style=\"text-align: right;\">\n",
       "      <th></th>\n",
       "      <th>sepal_length</th>\n",
       "      <th>sepal_width</th>\n",
       "      <th>petal_length</th>\n",
       "      <th>petal_width</th>\n",
       "      <th>class</th>\n",
       "    </tr>\n",
       "  </thead>\n",
       "  <tbody>\n",
       "    <tr>\n",
       "      <th>0</th>\n",
       "      <td>5.1</td>\n",
       "      <td>3.5</td>\n",
       "      <td>1.4</td>\n",
       "      <td>0.2</td>\n",
       "      <td>Iris-setosa</td>\n",
       "    </tr>\n",
       "    <tr>\n",
       "      <th>1</th>\n",
       "      <td>4.9</td>\n",
       "      <td>3.0</td>\n",
       "      <td>1.4</td>\n",
       "      <td>0.2</td>\n",
       "      <td>Iris-setosa</td>\n",
       "    </tr>\n",
       "    <tr>\n",
       "      <th>50</th>\n",
       "      <td>7.0</td>\n",
       "      <td>3.2</td>\n",
       "      <td>4.7</td>\n",
       "      <td>1.4</td>\n",
       "      <td>Iris-versicolor</td>\n",
       "    </tr>\n",
       "    <tr>\n",
       "      <th>51</th>\n",
       "      <td>6.4</td>\n",
       "      <td>3.2</td>\n",
       "      <td>4.5</td>\n",
       "      <td>1.5</td>\n",
       "      <td>Iris-versicolor</td>\n",
       "    </tr>\n",
       "    <tr>\n",
       "      <th>100</th>\n",
       "      <td>6.3</td>\n",
       "      <td>3.3</td>\n",
       "      <td>6.0</td>\n",
       "      <td>2.5</td>\n",
       "      <td>Iris-virginica</td>\n",
       "    </tr>\n",
       "    <tr>\n",
       "      <th>101</th>\n",
       "      <td>5.8</td>\n",
       "      <td>2.7</td>\n",
       "      <td>5.1</td>\n",
       "      <td>1.9</td>\n",
       "      <td>Iris-virginica</td>\n",
       "    </tr>\n",
       "  </tbody>\n",
       "</table>\n",
       "</div>"
      ],
      "text/plain": [
       "     sepal_length  sepal_width  petal_length  petal_width            class\n",
       "0             5.1          3.5           1.4          0.2      Iris-setosa\n",
       "1             4.9          3.0           1.4          0.2      Iris-setosa\n",
       "50            7.0          3.2           4.7          1.4  Iris-versicolor\n",
       "51            6.4          3.2           4.5          1.5  Iris-versicolor\n",
       "100           6.3          3.3           6.0          2.5   Iris-virginica\n",
       "101           5.8          2.7           5.1          1.9   Iris-virginica"
      ]
     },
     "execution_count": 22,
     "metadata": {},
     "output_type": "execute_result"
    }
   ],
   "source": [
    "# represent tabular \n",
    "iris = pd.read_csv('iris.data', header=None)\n",
    "iris.columns = ['sepal_length', 'sepal_width', 'petal_length', 'petal_width', 'class']\n",
    "# construindo tabela com 2 exemplos de cada classe\n",
    "iris_setosa = iris[iris['class'] == 'Iris-setosa']\n",
    "iris_versicolor = iris[iris['class'] == 'Iris-versicolor']\n",
    "iris_virginica = iris[iris['class'] == 'Iris-virginica']\n",
    "iris_setosa = iris_setosa.iloc[:2, :]\n",
    "iris_versicolor = iris_versicolor.iloc[:2, :]\n",
    "iris_virginica = iris_virginica.iloc[:2, :]\n",
    "# concatenando as tabelas\n",
    "iris_concat = pd.concat([iris_setosa, iris_versicolor, iris_virginica])\n",
    "iris_concat\n"
   ]
  },
  {
   "cell_type": "code",
   "execution_count": 19,
   "metadata": {},
   "outputs": [
    {
     "data": {
      "text/plain": [
       "[5.843333333333335, 3.0540000000000007, 3.7586666666666693, 1.1986666666666672]"
      ]
     },
     "execution_count": 19,
     "metadata": {},
     "output_type": "execute_result"
    }
   ],
   "source": [
    "#mostrando a média de cada atributo\n",
    "medias_atributos = []\n",
    "for i in range(4):\n",
    "    medias_atributos.append(iris.iloc[:, i].mean())\n",
    "medias_atributos\n"
   ]
  },
  {
   "cell_type": "code",
   "execution_count": 20,
   "metadata": {},
   "outputs": [
    {
     "data": {
      "text/plain": [
       "[5.8, 3.0, 4.35, 1.3]"
      ]
     },
     "execution_count": 20,
     "metadata": {},
     "output_type": "execute_result"
    }
   ],
   "source": [
    "#mostrando a media de cada atributo\n",
    "medianas_atributos = []\n",
    "for i in range(4):\n",
    "    medianas_atributos.append(iris.iloc[:, i].median())\n",
    "medianas_atributos"
   ]
  },
  {
   "cell_type": "code",
   "execution_count": 26,
   "metadata": {},
   "outputs": [
    {
     "data": {
      "text/plain": [
       "[5.797777777777777, 3.036666666666666, 3.8422222222222224, 1.2022222222222223]"
      ]
     },
     "execution_count": 26,
     "metadata": {},
     "output_type": "execute_result"
    }
   ],
   "source": [
    "#mostrando a media aparada de cada atributo\n",
    "media_aparada_atributos = []\n",
    "for i in range(4):  \n",
    "    media_aparada_atributos.append(.tristatsm_mean( iris.iloc[:, i],0.2))\n",
    "media_aparada_atributos"
   ]
  },
  {
   "cell_type": "code",
   "execution_count": 27,
   "metadata": {},
   "outputs": [
    {
     "data": {
      "text/plain": [
       "[0.6875555555555561,\n",
       " 0.3330933333333335,\n",
       " 1.5619199999999989,\n",
       " 0.6589333333333327]"
      ]
     },
     "execution_count": 27,
     "metadata": {},
     "output_type": "execute_result"
    }
   ],
   "source": [
    "#mostrando o desvio absoluto medio de cada atributo\n",
    "desvio_absoluto_atributos = []\n",
    "for i in range(4):\n",
    "    desvio_absoluto_atributos.append(iris.iloc[:, i].mad())\n",
    "desvio_absoluto_atributos"
   ]
  },
  {
   "cell_type": "code",
   "execution_count": 28,
   "metadata": {},
   "outputs": [
    {
     "data": {
      "text/plain": [
       "[0.6856935123042505,\n",
       " 0.18800402684563763,\n",
       " 3.1131794183445156,\n",
       " 0.5824143176733784]"
      ]
     },
     "execution_count": 28,
     "metadata": {},
     "output_type": "execute_result"
    }
   ],
   "source": [
    "#mostrando a variancia de cada atributo\n",
    "variancia_atributos = []\n",
    "for i in range(4):\n",
    "    variancia_atributos.append(iris.iloc[:, i].var())\n",
    "variancia_atributos\n"
   ]
  },
  {
   "cell_type": "code",
   "execution_count": 32,
   "metadata": {},
   "outputs": [
    {
     "data": {
      "text/plain": [
       "[0.8253012917851409,\n",
       " 0.4321465800705435,\n",
       " 1.7585291834055212,\n",
       " 0.7606126185881718]"
      ]
     },
     "execution_count": 32,
     "metadata": {},
     "output_type": "execute_result"
    }
   ],
   "source": [
    "#mostrando o desvio padrao de cada atributo\n",
    "import statistics as st\n",
    "desvio_padrao_atributos = []\n",
    "for i in range(4):\n",
    "    desvio_padrao_atributos.append(st.pstdev( iris.iloc[:, i]))\n",
    "desvio_padrao_atributos\n"
   ]
  },
  {
   "cell_type": "code",
   "execution_count": 34,
   "metadata": {},
   "outputs": [
    {
     "data": {
      "text/plain": [
       "[0.05613867603089748,\n",
       " 0.027196956779648618,\n",
       " 0.1275302339682633,\n",
       " 0.053801681372597575]"
      ]
     },
     "execution_count": 34,
     "metadata": {},
     "output_type": "execute_result"
    }
   ],
   "source": [
    "#mostrando o desvio absoluto mediano da mediana de cada atributo\n",
    "desvio_absoluto_mediano_atributos = []\n",
    "for i in range(4):\n",
    "    desvio_absoluto_mediano_atributos.append(iris.iloc[:, i].mad()/np.sqrt(len(iris.iloc[:, i])))\n",
    "desvio_absoluto_mediano_atributos"
   ]
  },
  {
   "cell_type": "code",
   "execution_count": 35,
   "metadata": {},
   "outputs": [
    {
     "data": {
      "text/plain": [
       "[7.9, 4.4, 6.9, 2.5]"
      ]
     },
     "execution_count": 35,
     "metadata": {},
     "output_type": "execute_result"
    }
   ],
   "source": [
    "#mostrando o maximo de cada atributo\n",
    "max_atributos = []\n",
    "for i in range(4):\n",
    "    max_atributos.append(iris.iloc[:, i].max())\n",
    "max_atributos\n"
   ]
  },
  {
   "cell_type": "code",
   "execution_count": 36,
   "metadata": {},
   "outputs": [
    {
     "data": {
      "text/plain": [
       "[4.3, 2.0, 1.0, 0.1]"
      ]
     },
     "execution_count": 36,
     "metadata": {},
     "output_type": "execute_result"
    }
   ],
   "source": [
    "#mostrando o minimo de cada atributo\n",
    "min_atributos = []\n",
    "for i in range(4):\n",
    "    min_atributos.append(iris.iloc[:, i].min())\n",
    "min_atributos\n"
   ]
  },
  {
   "cell_type": "code",
   "execution_count": null,
   "metadata": {},
   "outputs": [],
   "source": [
    "#nostrando a amplitude de cada atributo\n",
    "amplitude_atributos = []\n",
    "for i in range(4):\n",
    "    amplitude_atributos.append(iris.iloc[:, i].max() - iris.iloc[:, i].min())\n",
    "amplitude_atributos"
   ]
  },
  {
   "cell_type": "code",
   "execution_count": 39,
   "metadata": {},
   "outputs": [
    {
     "data": {
      "text/plain": [
       "[4.8, 2.5, 1.4, 0.2]"
      ]
     },
     "execution_count": 39,
     "metadata": {},
     "output_type": "execute_result"
    }
   ],
   "source": [
    "#mostrando 10 percentil de cada atributo\n",
    "percentil_atributos_10 = []\n",
    "for i in range(4):\n",
    "    percentil_atributos_10.append(iris.iloc[:, i].quantile(0.1))\n",
    "percentil_atributos_10"
   ]
  },
  {
   "cell_type": "code",
   "execution_count": 40,
   "metadata": {},
   "outputs": [
    {
     "data": {
      "text/plain": [
       "[5.1, 2.8, 1.6, 0.3]"
      ]
     },
     "execution_count": 40,
     "metadata": {},
     "output_type": "execute_result"
    }
   ],
   "source": [
    "#mostrando 25 percentil de cada atributo\n",
    "percentil_atributos_25 = []\n",
    "for i in range(4):\n",
    "    percentil_atributos_25.append(iris.iloc[:, i].quantile(0.25))\n",
    "percentil_atributos_25\n"
   ]
  },
  {
   "cell_type": "code",
   "execution_count": 41,
   "metadata": {},
   "outputs": [
    {
     "data": {
      "text/plain": [
       "[5.8, 3.0, 4.35, 1.3]"
      ]
     },
     "execution_count": 41,
     "metadata": {},
     "output_type": "execute_result"
    }
   ],
   "source": [
    "#mostrando 50 percentil de cada atributo\n",
    "percentil_atributos_50 = []\n",
    "for i in range(4):\n",
    "    percentil_atributos_50.append(iris.iloc[:, i].quantile(0.5))\n",
    "percentil_atributos_50\n"
   ]
  },
  {
   "cell_type": "code",
   "execution_count": 42,
   "metadata": {},
   "outputs": [
    {
     "data": {
      "text/plain": [
       "[6.4, 3.3, 5.1, 1.8]"
      ]
     },
     "execution_count": 42,
     "metadata": {},
     "output_type": "execute_result"
    }
   ],
   "source": [
    "#mostrando 75 percentil de cada atributo\n",
    "percentil_atributos_75 = []\n",
    "for i in range(4):\n",
    "    percentil_atributos_75.append(iris.iloc[:, i].quantile(0.75))\n",
    "percentil_atributos_75\n"
   ]
  },
  {
   "cell_type": "code",
   "execution_count": 43,
   "metadata": {},
   "outputs": [
    {
     "data": {
      "text/plain": [
       "[6.9, 3.6099999999999994, 5.8, 2.2]"
      ]
     },
     "execution_count": 43,
     "metadata": {},
     "output_type": "execute_result"
    }
   ],
   "source": [
    "#mostrando 90 percentil de cada atributo\n",
    "percentil_atributos_90 = []\n",
    "for i in range(4):\n",
    "    percentil_atributos_90.append(iris.iloc[:, i].quantile(0.9))\n",
    "percentil_atributos_90\n",
    "\n"
   ]
  },
  {
   "cell_type": "code",
   "execution_count": 44,
   "metadata": {},
   "outputs": [
    {
     "data": {
      "text/plain": [
       "[1.3000000000000007, 0.5, 3.4999999999999996, 1.5]"
      ]
     },
     "execution_count": 44,
     "metadata": {},
     "output_type": "execute_result"
    }
   ],
   "source": [
    "# mostrando a amplitude interquartil de cada atributo\n",
    "amplitude_interquartil_atributos = []\n",
    "for i in range(4):\n",
    "    amplitude_interquartil_atributos.append(iris.iloc[:, i].quantile(0.75) - iris.iloc[:, i].quantile(0.25))\n",
    "amplitude_interquartil_atributos"
   ]
  }
 ],
 "metadata": {
  "kernelspec": {
   "display_name": "Python 3.9.7 ('base')",
   "language": "python",
   "name": "python3"
  },
  "language_info": {
   "codemirror_mode": {
    "name": "ipython",
    "version": 3
   },
   "file_extension": ".py",
   "mimetype": "text/x-python",
   "name": "python",
   "nbconvert_exporter": "python",
   "pygments_lexer": "ipython3",
   "version": "3.9.7"
  },
  "orig_nbformat": 4,
  "vscode": {
   "interpreter": {
    "hash": "ad2bdc8ecc057115af97d19610ffacc2b4e99fae6737bb82f5d7fb13d2f2c186"
   }
  }
 },
 "nbformat": 4,
 "nbformat_minor": 2
}
